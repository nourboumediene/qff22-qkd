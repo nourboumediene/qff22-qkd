{
 "cells": [
  {
   "cell_type": "markdown",
   "id": "83d28622",
   "metadata": {},
   "source": [
    "![Constantine Quantum Technologies for QFF22-Algiers](imgs/qff22_cqtech_banner.png)"
   ]
  },
  {
   "cell_type": "markdown",
   "id": "64502bc9",
   "metadata": {},
   "source": [
    "# QKD challenge - Qiskit Fall Fest 2022, Algiers"
   ]
  },
  {
   "cell_type": "markdown",
   "id": "2b30799d",
   "metadata": {},
   "source": [
    "### The BB84 Protocol (from Qiskit)"
   ]
  },
  {
   "cell_type": "markdown",
   "id": "f6f3e73b",
   "metadata": {},
   "source": [
    "To make things easy on you, here's the complete code for the BB84 protocol. You may copy and modify it for your solutions bellow."
   ]
  },
  {
   "cell_type": "code",
   "execution_count": 1,
   "id": "5267da7c",
   "metadata": {
    "scrolled": true
   },
   "outputs": [],
   "source": [
    "from qiskit import QuantumCircuit, Aer, transpile, assemble\n",
    "from qiskit.visualization import plot_histogram, plot_bloch_multivector\n",
    "from numpy.random import randint\n",
    "import numpy as np"
   ]
  },
  {
   "cell_type": "code",
   "execution_count": 2,
   "id": "998835e8",
   "metadata": {
    "scrolled": true
   },
   "outputs": [],
   "source": [
    "def encode_message(bits, bases):\n",
    "    message = []\n",
    "    for i in range(n):\n",
    "        qc = QuantumCircuit(1,1)\n",
    "        if bases[i] == 0: # Prepare qubit in Z-basis\n",
    "            if bits[i] == 0:\n",
    "                pass \n",
    "            else:\n",
    "                qc.x(0)\n",
    "        else: # Prepare qubit in X-basis\n",
    "            if bits[i] == 0:\n",
    "                qc.h(0)\n",
    "            else:\n",
    "                qc.x(0)\n",
    "                qc.h(0)\n",
    "        qc.barrier()\n",
    "        message.append(qc)\n",
    "    return message"
   ]
  },
  {
   "cell_type": "code",
   "execution_count": 3,
   "id": "b42bac3e",
   "metadata": {
    "scrolled": true
   },
   "outputs": [],
   "source": [
    "def measure_message(message, bases):\n",
    "    backend = Aer.get_backend('aer_simulator')\n",
    "    measurements = []\n",
    "    for q in range(n):\n",
    "        if bases[q] == 0: # measuring in Z-basis\n",
    "            message[q].measure(0,0)\n",
    "        if bases[q] == 1: # measuring in X-basis\n",
    "            message[q].h(0)\n",
    "            message[q].measure(0,0)\n",
    "        aer_sim = Aer.get_backend('aer_simulator')\n",
    "        qobj = assemble(message[q], shots=1, memory=True)\n",
    "        result = aer_sim.run(qobj).result()\n",
    "        measured_bit = int(result.get_memory()[0])\n",
    "        measurements.append(measured_bit)\n",
    "    return measurements"
   ]
  },
  {
   "cell_type": "code",
   "execution_count": 4,
   "id": "e2ada713",
   "metadata": {
    "scrolled": true
   },
   "outputs": [],
   "source": [
    "def remove_garbage(a_bases, b_bases, bits):\n",
    "    good_bits = []\n",
    "    for q in range(n):\n",
    "        if a_bases[q] == b_bases[q]:\n",
    "            # If both used the same basis, add\n",
    "            # this to the list of 'good' bits\n",
    "            good_bits.append(bits[q])\n",
    "    return good_bits"
   ]
  },
  {
   "cell_type": "code",
   "execution_count": 5,
   "id": "121a096d",
   "metadata": {
    "scrolled": true
   },
   "outputs": [],
   "source": [
    "def sample_bits(bits, selection):\n",
    "    sample = []\n",
    "    for i in selection:\n",
    "        # use np.mod to make sure the\n",
    "        # bit we sample is always in \n",
    "        # the list range\n",
    "        i = np.mod(i, len(bits))\n",
    "        # pop(i) removes the element of the\n",
    "        # list at index 'i'\n",
    "        sample.append(bits.pop(i))\n",
    "    return sample"
   ]
  },
  {
   "cell_type": "code",
   "execution_count": 6,
   "id": "9106b57e",
   "metadata": {
    "scrolled": true
   },
   "outputs": [
    {
     "name": "stdout",
     "output_type": "stream",
     "text": [
      "  bob_sample = [0, 1, 1, 1, 1, 0, 1, 0, 1, 0, 1, 1, 0, 1, 1]\n",
      "alice_sample = [0, 1, 1, 1, 1, 0, 1, 0, 1, 0, 1, 1, 0, 1, 1]\n",
      "-----------\n",
      "  bob_key = [0, 1, 1, 0, 0, 0, 1, 0, 0, 1, 1, 0, 0, 1, 0, 1, 1, 0, 0, 0, 1, 0, 0, 1, 1, 0, 0, 1, 0, 0, 1, 1]\n",
      "alice_key = [0, 1, 1, 0, 0, 0, 1, 0, 0, 1, 1, 0, 0, 1, 0, 1, 1, 0, 0, 0, 1, 0, 0, 1, 1, 0, 0, 1, 0, 0, 1, 1]\n"
     ]
    }
   ],
   "source": [
    "np.random.seed(seed=3)  # We use a known seed for RNG to make the results reproducible.\n",
    "n = 100\n",
    "\n",
    "## Step 1: Alice generates random bits.\n",
    "alice_bits = randint(2, size=n)\n",
    "## Step 2: Alice chooses a series of random bases: one for each bit.\n",
    "alice_bases = randint(2, size=n)\n",
    "\n",
    "## Step 3: Alice then sends a quantum message with her bits encoded in her random bases.\n",
    "message = encode_message(alice_bits, alice_bases)\n",
    "\n",
    "## Step 4: Bob chooses random bases of his own.\n",
    "bob_bases = randint(2, size=n)\n",
    "## Step 5: Bob then measures Alice's message in his own bases.\n",
    "bob_results = measure_message(message, bob_bases)\n",
    "\n",
    "## Step 6: Alice and Bob make their bases public, compare them, and only keep\n",
    "#          the measurements where they used the same bases.\n",
    "bob_key = remove_garbage(alice_bases, bob_bases, bob_results)\n",
    "alice_key = remove_garbage(alice_bases, bob_bases, alice_bits)\n",
    "\n",
    "\n",
    "## Step 5\n",
    "sample_size = 15\n",
    "bit_selection = randint(n, size=sample_size)\n",
    "bob_sample = sample_bits(bob_key, bit_selection)\n",
    "print(\"  bob_sample = \" + str(bob_sample))\n",
    "alice_sample = sample_bits(alice_key, bit_selection)\n",
    "print(\"alice_sample = \"+ str(alice_sample))\n",
    "print(\"-----------\")\n",
    "print(\"  bob_key = \" + str(bob_key))\n",
    "print(\"alice_key = \"+ str(alice_key))\n",
    "\n"
   ]
  },
  {
   "cell_type": "markdown",
   "id": "4f627b24",
   "metadata": {},
   "source": [
    "___________________________________________________________________________________"
   ]
  },
  {
   "cell_type": "markdown",
   "id": "c0f43ccc",
   "metadata": {},
   "source": [
    "# YOUR SOLUTIONS"
   ]
  },
  {
   "cell_type": "markdown",
   "id": "844b4761",
   "metadata": {},
   "source": [
    "### 1. PNS attack on BB84"
   ]
  },
  {
   "cell_type": "markdown",
   "id": "27a5d142",
   "metadata": {},
   "source": [
    "In practice, Alice will not send single photons/qubits every single time. She will likely send multiple each time. This is because it's hard to reliably generate single photons.\n",
    "\n",
    "In this task, Alice will always send exactly 2 photons/qubits each time.\n",
    "How can Eve take advantage of this to retrieve Alice and Bob's secrete key without them knowing? Simulate this scenario using Qiskit."
   ]
  },
  {
   "cell_type": "code",
   "execution_count": 42,
   "id": "a23af10a",
   "metadata": {
    "scrolled": true
   },
   "outputs": [],
   "source": [
    "from qiskit import QuantumCircuit, Aer, transpile, assemble\n",
    "from qiskit.visualization import plot_histogram, plot_bloch_multivector\n",
    "from numpy.random import randint\n",
    "import numpy as np\n",
    "# Your function(s) here ...   \n",
    "def encode_message(bits, bases):\n",
    "    message = []\n",
    "    message1=[]\n",
    "    for i in range(n):\n",
    "        qc = QuantumCircuit(1,1)\n",
    "        qc1= QuantumCircuit(1,1)\n",
    "        if bases[i] == 0: # Prepare qubit in Z-basis\n",
    "            if bits[i] == 0:\n",
    "                pass \n",
    "            else:\n",
    "                qc.x(0)\n",
    "                qc1.x(0)\n",
    "        else: # Prepare qubit in X-basis\n",
    "            if bits[i] == 0:\n",
    "                qc.h(0)\n",
    "                qc1.h(0)\n",
    "            else:\n",
    "                qc.x(0)\n",
    "                qc1.x(0)\n",
    "                qc.h(0)\n",
    "                qc1.h(0)\n",
    "        qc.barrier()\n",
    "        qc1.barrier()\n",
    "        message.append(qc)\n",
    "        message1.append(qc1)\n",
    "    return message,message1"
   ]
  },
  {
   "cell_type": "code",
   "execution_count": 31,
   "id": "e25a4976",
   "metadata": {
    "scrolled": true
   },
   "outputs": [],
   "source": [
    "# Your function(s) here ...   \n",
    "def measure_message(message, bases):\n",
    "    backend = Aer.get_backend('aer_simulator')\n",
    "    measurements = []\n",
    "    for q in range(n):\n",
    "        if bases[q] == 0: # measuring in Z-basis\n",
    "            message[q].measure(0,0)\n",
    "            #message[q].measure(1,1)\n",
    "        if bases[q] == 1: # measuring in X-basis\n",
    "            message[q].h(0)\n",
    "            #message[q].h(1)\n",
    "            message[q].measure(0,0)\n",
    "            #message[q].measure(1,1)\n",
    "        aer_sim = Aer.get_backend('aer_simulator')\n",
    "        qobj = assemble(message[q], shots=1, memory=True)\n",
    "        result = aer_sim.run(qobj).result()\n",
    "        measured_bit = int(result.get_memory()[0])\n",
    "        measurements.append(measured_bit)\n",
    "    return measurements\n",
    "def remove_garbage(a_bases, b_bases, bits):\n",
    "    good_bits = []\n",
    "    for q in range(n):\n",
    "        if a_bases[q] == b_bases[q]:\n",
    "            # If both used the same basis, add\n",
    "            # this to the list of 'good' bits\n",
    "            good_bits.append(bits[q])\n",
    "    return good_bits\n",
    "\n",
    "def sample_bits(bits, selection):\n",
    "    sample = []\n",
    "    for i in selection:\n",
    "        # use np.mod to make sure the\n",
    "        # bit we sample is always in \n",
    "        # the list range\n",
    "        i = np.mod(i, len(bits))\n",
    "        # pop(i) removes the element of the\n",
    "        # list at index 'i'\n",
    "        sample.append(bits.pop(i))\n",
    "    return sample"
   ]
  },
  {
   "cell_type": "code",
   "execution_count": 46,
   "id": "6f610707",
   "metadata": {
    "scrolled": true
   },
   "outputs": [
    {
     "name": "stdout",
     "output_type": "stream",
     "text": [
      "  bob_sample = [1, 1, 0, 0, 1, 0, 0, 0, 0, 0, 0, 1, 0, 0, 0]\n",
      "alice_sample = [1, 1, 0, 0, 1, 0, 0, 0, 0, 0, 0, 1, 0, 0, 0]\n",
      "  eve_sample = [1, 1, 1, 1, 0, 0, 0, 0, 0, 0, 0, 1, 1, 1, 0]\n",
      "-----------\n",
      "  bob_key = [0, 0, 1, 0, 0, 1, 1, 0, 1, 0, 0, 1, 0, 0, 1, 0, 1, 0, 0, 1, 0, 1, 1, 0, 1, 0, 0, 1, 0, 1, 1, 1, 0, 1, 0, 1, 1]\n",
      "alice_key = [0, 0, 1, 0, 0, 1, 1, 0, 1, 0, 0, 1, 0, 0, 1, 0, 1, 0, 0, 1, 0, 1, 1, 0, 1, 0, 0, 1, 0, 1, 1, 1, 0, 1, 0, 1, 1]\n",
      "  eve_key = [1, 0, 1, 1, 0, 0, 1, 0, 0, 0, 0, 0, 0, 0, 0, 1, 1, 1, 0, 1, 1, 1, 0, 0, 1, 1, 1, 1, 1, 1, 0, 0, 0, 0, 0, 1]\n"
     ]
    }
   ],
   "source": [
    "np.random.seed(seed=3)\n",
    "n = 100  # Using 100 quantum states\n",
    "#####   DO NOT CHANGE THE CODE ABOVE THIS LINE!   #####\n",
    "\n",
    "## Step 1: Alice generates random bits.\n",
    "alice_bits = randint(2, size=n)\n",
    "\n",
    "\n",
    "## Step 2: Alice chooses a series of random bases: one for each bit.\n",
    "alice_bases = randint(2, size=n)\n",
    "eve_bases = randint(2, size=n)\n",
    "## Step 3: Alice then sends a quantum message with her bits encoded in her random bases.\n",
    "message, message_eve = encode_message(alice_bits, alice_bases)\n",
    "\n",
    "## Step 4: Bob chooses random bases of his own.\n",
    "bob_bases = randint(2, size=n)\n",
    "## Step 5: Bob then measures Alice's message in his own bases.\n",
    "bob_results = measure_message(message, bob_bases)\n",
    "eve_results = measure_message(message_eve, eve_bases)\n",
    "\n",
    "## Step 6: Alice and Bob make their bases public, compare them, and only keep\n",
    "#          the measurements where they used the same bases.\n",
    "bob_key = remove_garbage(alice_bases, bob_bases, bob_results)\n",
    "alice_key = remove_garbage(alice_bases, bob_bases, alice_bits)\n",
    "eve_key = remove_garbage(eve_bases, bob_bases, eve_results )\n",
    "\n",
    "\n",
    "## Step 5\n",
    "sample_size = 15\n",
    "bit_selection = randint(n, size=sample_size)\n",
    "\n",
    "bob_sample = sample_bits(bob_key, bit_selection)\n",
    "alice_sample = sample_bits(alice_key, bit_selection)\n",
    "eve_sample = sample_bits(eve_key, bit_selection)\n",
    "#####   DO NOT CHANGE THE CODE BELLOW THIS LINE!   #####\n",
    "\n",
    "# RESULTS -------------------------------------\n",
    "print(\"  bob_sample = \" + str(bob_sample))\n",
    "print(\"alice_sample = \"+ str(alice_sample))\n",
    "print(\"  eve_sample = \"+ str(eve_sample))\n",
    "print(\"-----------\")\n",
    "print(\"  bob_key = \" + str(bob_key))\n",
    "print(\"alice_key = \"+ str(alice_key))\n",
    "print(\"  eve_key = \" + str(eve_key))\n"
   ]
  },
  {
   "cell_type": "markdown",
   "id": "191a46f6",
   "metadata": {},
   "source": [
    "#### Explain your solution (Optional)"
   ]
  },
  {
   "cell_type": "markdown",
   "id": "b57705ce",
   "metadata": {},
   "source": [
    "If you did not have time to implement your code, or simply want to add further explanations, you can describe your solution in the cell bellow.<br>\n",
    "(in both cases you are still expected to submit code!)"
   ]
  },
  {
   "cell_type": "markdown",
   "id": "16c6e2e8",
   "metadata": {},
   "source": [
    "*\\[REPLACE THIS WITH YOUR ANSWER\\]*\n",
    "\n",
    "*(double click here to modify)*\n",
    "so technically what i thought of doing was that to declare my two qubits that are going to be the same, and measure encode them the same way (alice's way) this way eve will have the same key as alice, afterwards i was generate a base and a key for eve and that will not affect alice's and bob's since eve's message is seperate from them"
   ]
  },
  {
   "cell_type": "markdown",
   "id": "1e0598a6",
   "metadata": {},
   "source": [
    "______________________________"
   ]
  },
  {
   "cell_type": "markdown",
   "id": "8e0c6edf",
   "metadata": {},
   "source": [
    "### 2. Implementing BBM92 using Qiskit"
   ]
  },
  {
   "cell_type": "markdown",
   "id": "36abcca7",
   "metadata": {},
   "source": [
    "Using the functions defined above, and creating new ones, implement the BBM92 protocol.\n",
    "\n",
    "**Reminder:** In the BBM92 protocol, a pair of entangled photons/qubits is generated. Alice receives one, and Bob receives the other."
   ]
  },
  {
   "cell_type": "code",
   "execution_count": null,
   "id": "f2056ff1",
   "metadata": {
    "scrolled": true
   },
   "outputs": [],
   "source": [
    "# Your function(s) here ...   \n"
   ]
  },
  {
   "cell_type": "code",
   "execution_count": null,
   "id": "6808f829",
   "metadata": {
    "scrolled": true
   },
   "outputs": [],
   "source": [
    "# Your function(s) here ...   \n"
   ]
  },
  {
   "cell_type": "code",
   "execution_count": null,
   "id": "e53032c1",
   "metadata": {
    "scrolled": true
   },
   "outputs": [],
   "source": [
    "np.random.seed(seed=3)\n",
    "n = 100  # Using 100 quantum states\n",
    "#####   DO NOT CHANGE THE CODE ABOVE THIS LINE!   #####\n",
    "\n",
    "# ...\n",
    "# ...    Your solution here    ...\n",
    "# ...\n",
    "\n",
    "#####   DO NOT CHANGE THE CODE BELLOW THIS LINE!   #####\n",
    "\n",
    "# RESULTS -------------------------------------\n",
    "print(\"  bob_sample = \" + str(bob_sample))\n",
    "print(\"alice_sample = \"+ str(alice_sample))\n",
    "print(\"-----------\")\n",
    "print(\"  bob_key = \" + str(bob_key))\n",
    "print(\"alice_key = \"+ str(alice_key))\n"
   ]
  },
  {
   "cell_type": "markdown",
   "id": "f9393cf5",
   "metadata": {},
   "source": [
    "#### Explain your solution (Optional)"
   ]
  },
  {
   "cell_type": "markdown",
   "id": "933e0e5c",
   "metadata": {},
   "source": [
    "If you did not have time to implement your code, or simply want to add further explanations, you can describe your solution in the cell bellow.<br>\n",
    "(in both cases you are still expected to submit code!)"
   ]
  },
  {
   "cell_type": "markdown",
   "id": "cee47bef",
   "metadata": {},
   "source": [
    "*\\[REPLACE THIS WITH YOUR ANSWER\\]*\n",
    "\n",
    "*(double click here to modify)*"
   ]
  },
  {
   "cell_type": "markdown",
   "id": "a49c7993",
   "metadata": {},
   "source": [
    "________________________________________________________"
   ]
  },
  {
   "cell_type": "markdown",
   "id": "06a641a1",
   "metadata": {},
   "source": [
    "### 3. BBM92 with interception of the duplicate photons"
   ]
  },
  {
   "cell_type": "markdown",
   "id": "43fef18b",
   "metadata": {},
   "source": [
    "For the same reasons as in the 1st task (with BB84), 2 pairs of photons/qubits will be generated each time instead of 1.<br>\n",
    "In this scenario, Alice and Bob will receive their respective photons as in the 2nd task, and Eve will receive one of the photons from the second pair.\n",
    "\n",
    "Show that, unlike in the BB84 case, Eve does not get any information from the additional photons after Alice and Bob make their bases public."
   ]
  },
  {
   "cell_type": "markdown",
   "id": "ab295d56",
   "metadata": {},
   "source": [
    " "
   ]
  },
  {
   "cell_type": "code",
   "execution_count": null,
   "id": "99bef095",
   "metadata": {
    "scrolled": true
   },
   "outputs": [],
   "source": [
    "# Your function(s) here ...   \n"
   ]
  },
  {
   "cell_type": "code",
   "execution_count": null,
   "id": "e5da8d2a",
   "metadata": {
    "scrolled": true
   },
   "outputs": [],
   "source": [
    "# Your function(s) here ...   \n"
   ]
  },
  {
   "cell_type": "code",
   "execution_count": null,
   "id": "8e882caa",
   "metadata": {
    "scrolled": false
   },
   "outputs": [],
   "source": [
    "np.random.seed(seed=3)\n",
    "n = 100  # Using 100 quantum states\n",
    "#####   DO NOT CHANGE THE CODE ABOVE THIS LINE!   #####\n",
    "\n",
    "# ...\n",
    "# ...    Your solution here    ...\n",
    "# ...\n",
    "\n",
    "#####   DO NOT CHANGE THE CODE BELLOW THIS LINE!   #####\n",
    "\n",
    "# RESULTS -------------------------------------\n",
    "print(\"  bob_sample = \" + str(bob_sample))\n",
    "print(\"alice_sample = \"+ str(alice_sample))\n",
    "print(\"  eve_sample = \"+ str(eve_sample))\n",
    "print(\"-----------\")\n",
    "print(\"  bob_key = \" + str(bob_key))\n",
    "print(\"alice_key = \"+ str(alice_key))\n",
    "print(\"  eve_key = \" + str(eve_key))  # Shoud be different than Alice and Bob's\n"
   ]
  },
  {
   "cell_type": "markdown",
   "id": "d9263cf6",
   "metadata": {},
   "source": [
    "#### Explain your solution (Optional)"
   ]
  },
  {
   "cell_type": "markdown",
   "id": "541470d3",
   "metadata": {},
   "source": [
    "If you did not have time to implement your code, or simply want to add further explanations, you can describe your solution in the cell bellow.<br>\n",
    "(in both cases you are still expected to submit code!)"
   ]
  },
  {
   "cell_type": "markdown",
   "id": "a047daf0",
   "metadata": {},
   "source": [
    "*\\[REPLACE THIS WITH YOUR ANSWER\\]*\n",
    "\n",
    "*(double click here to modify)*\n",
    "in this challenge i thought of generating two different bits then sending each of them to alice and bob in a way that qubits are coupled which means any measurement changes that are done by the side of alice or bob will be affected to both of them, this also means that they will be the only ones having access to each others qubits and eve's one will be totally seperate \n"
   ]
  },
  {
   "cell_type": "markdown",
   "id": "c22fa483",
   "metadata": {},
   "source": [
    "________________________________________________________"
   ]
  },
  {
   "cell_type": "markdown",
   "id": "e2a787e0",
   "metadata": {},
   "source": [
    " "
   ]
  }
 ],
 "metadata": {
  "kernelspec": {
   "display_name": "Python 3 (ipykernel)",
   "language": "python",
   "name": "python3"
  },
  "language_info": {
   "codemirror_mode": {
    "name": "ipython",
    "version": 3
   },
   "file_extension": ".py",
   "mimetype": "text/x-python",
   "name": "python",
   "nbconvert_exporter": "python",
   "pygments_lexer": "ipython3",
   "version": "3.9.13"
  }
 },
 "nbformat": 4,
 "nbformat_minor": 5
}
